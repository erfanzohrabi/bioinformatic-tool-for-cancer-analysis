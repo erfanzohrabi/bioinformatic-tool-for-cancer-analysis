{
  "nbformat": 4,
  "nbformat_minor": 0,
  "metadata": {
    "colab": {
      "provenance": [],
      "authorship_tag": "ABX9TyPRnSTht2HURLhMC+Sjjp6/",
      "include_colab_link": true
    },
    "kernelspec": {
      "name": "python3",
      "display_name": "Python 3"
    },
    "language_info": {
      "name": "python"
    }
  },
  "cells": [
    {
      "cell_type": "markdown",
      "metadata": {
        "id": "view-in-github",
        "colab_type": "text"
      },
      "source": [
        "<a href=\"https://colab.research.google.com/github/erfanzohrabi/bioinformatic-tool-for-cancer-analysis/blob/main/analyze_sequencing_data_for_cancer_mutation_detection_py.ipynb\" target=\"_parent\"><img src=\"https://colab.research.google.com/assets/colab-badge.svg\" alt=\"Open In Colab\"/></a>"
      ]
    },
    {
      "cell_type": "code",
      "execution_count": null,
      "metadata": {
        "id": "ns96fhC8oQRi"
      },
      "outputs": [],
      "source": [
        " # Developing a Python program to analyze high-throughput sequencing data for cancer mutation detection"
      ]
    },
    {
      "cell_type": "markdown",
      "source": [
        "Developing a Python program to analyze high-throughput sequencing data for cancer mutation detection"
      ],
      "metadata": {
        "id": "pu4OEGCpog8t"
      }
    },
    {
      "cell_type": "code",
      "source": [
        "#import necessary libraries\n",
        "import pandas as pd\n",
        "import numpy as np\n",
        "from sklearn.preprocessing import StandardScaler\n",
        "from sklearn.model_selection import train_test_split\n",
        "from sklearn.linear_model import LogisticRegression\n",
        "from sklearn.metrics import confusion_matrix, accuracy_score, classification_report\n",
        "\n",
        "\n",
        "#load the data and clean it \n",
        "data = pd.read_csv('sequencingData.csv')  #load the data \n",
        "data = data.dropna() #drop any rows with missing values \n",
        "data = data[data['mutation'] != 'Wildtype'] #remove wildtype samples from dataset \n",
        "\n",
        "#separate features and labels \n",
        "X = data.iloc[:,:-1] #features \n",
        "y = data['mutation'] #labels\n",
        "\n",
        "#scale the features using standard scaler \n",
        "scaler = StandardScaler()   #instantiate scaler object \n",
        "X = scaler.fit_transform(X) #scale the features\n",
        "\n",
        "#split into training and testing sets \n",
        "X_train, X_test, y_train, y_test = train_test_split(X, y, test_size=0.2)\n",
        "\n",
        "#build logistic regression model and fit to training set  \n",
        "model = LogisticRegression()   #instantiate model object \n",
        "model.fit(X_train, y_train)    #fit model to training set\n",
        "  \n",
        "#make predictions on test set                                                                     \n",
        "y_preds = model.predict(X_test)\n",
        "\n",
        "#evaluate model performance on test set using confusion matrix, accuracy score and \n",
        "#classification report                                                                                                                                                                                                                                                                                                                                                                         \n",
        "                                             \n",
        "                                        \n",
        "                                           \n",
        "print('Confusion Matrix: \\n', confusionMatrix(yTest, yPreds))                         \n",
        "print('Accuracy Score: \\n', accuracyScore(yTest, yPreds))                         \n",
        "print('Classification Report: \\n', classificationReport(yTest, yPreds))"
      ],
      "metadata": {
        "id": "v7S8MfcWod_G"
      },
      "execution_count": null,
      "outputs": []
    }
  ]
}